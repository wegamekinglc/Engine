{
 "cells": [
  {
   "cell_type": "markdown",
   "metadata": {
    "extensions": {
     "jupyter_dashboards": {
      "version": 1,
      "views": {
       "grid_default": {
        "col": 0,
        "height": 4,
        "hidden": true,
        "row": 20,
        "width": 4
       },
       "report_default": {
        "hidden": false
       }
      }
     }
    },
    "tags": []
   },
   "source": [
    "\n",
    "# Sensitivities: Bump vs AAD "
   ]
  },
  {
   "cell_type": "markdown",
   "metadata": {
    "extensions": {
     "jupyter_dashboards": {
      "version": 1,
      "views": {
       "grid_default": {
        "col": 4,
        "height": 4,
        "hidden": true,
        "row": 26,
        "width": 4
       },
       "report_default": {
        "hidden": false
       }
      }
     }
    },
    "tags": []
   },
   "source": [
    "This dashboard demonstrates the accuracy and performance of AAD sensitivities for a range of complex products\n",
    "- European Option\n",
    "- Barrier Option\n",
    "- Accumulator\n",
    "- Asian Basket Option\n",
    "- TaRF\n",
    "\n",
    "all represented as scripted trades.\n",
    "\n",
    "We are running ORE twice, with differences in the pricinengine.xml file:\n",
    "- setting UseAD to false for the bump run and\n",
    "- setting UseAD to true for AAD."
   ]
  },
  {
   "cell_type": "markdown",
   "metadata": {
    "extensions": {
     "jupyter_dashboards": {
      "version": 1,
      "views": {
       "grid_default": {
        "col": 0,
        "height": 2,
        "hidden": false,
        "row": 0,
        "width": 12
       },
       "report_default": {
        "hidden": false
       }
      }
     }
    }
   },
   "source": [
    "## Run ORE, Bump & Reval Sensitivities, Single-Threaded"
   ]
  },
  {
   "cell_type": "code",
   "execution_count": null,
   "metadata": {
    "extensions": {
     "jupyter_dashboards": {
      "version": 1,
      "views": {
       "grid_default": {
        "hidden": true
       },
       "report_default": {
        "hidden": true
       }
      }
     }
    },
    "scrolled": true
   },
   "outputs": [],
   "source": [
    "from ORE import *\n",
    "import sys, time, math\n",
    "sys.path.append('..')\n",
    "import utilities"
   ]
  },
  {
   "cell_type": "code",
   "execution_count": null,
   "metadata": {},
   "outputs": [],
   "source": [
    "params = Parameters()\n",
    "params.fromFile(\"Input/ore.xml\")\n",
    "ore = OREApp(params)\n",
    "ore.run()\n",
    "utilities.checkErrorsAndRunTime(ore)\n",
    "#utilities.writeList(ore.getReportNames())"
   ]
  },
  {
   "cell_type": "markdown",
   "metadata": {
    "extensions": {
     "jupyter_dashboards": {
      "version": 1,
      "views": {
       "grid_default": {
        "col": 0,
        "height": 2,
        "hidden": false,
        "row": 7,
        "width": 12
       },
       "report_default": {
        "hidden": false
       }
      }
     }
    }
   },
   "source": [
    "## Run ORE using AAD\n",
    "\n",
    "Check the following is set in **pricingengine_ad.xml**\n",
    "- **UseAD** is set to true\n",
    "\n",
    "Check the following is set in **sensitivity.xml**\n",
    "- **ComputeGamma** is set to false: otherwise AD is deactivated, because it does not support gamma and cross gamma calculation so far\n"
   ]
  },
  {
   "cell_type": "code",
   "execution_count": null,
   "metadata": {
    "extensions": {
     "jupyter_dashboards": {
      "version": 1,
      "views": {
       "grid_default": {
        "col": 0,
        "height": 7,
        "hidden": false,
        "row": 9,
        "width": 12
       },
       "report_default": {
        "hidden": true
       }
      }
     }
    }
   },
   "outputs": [],
   "source": [
    "params_ad = Parameters()\n",
    "params_ad.fromFile(\"Input/ore_ad.xml\")\n",
    "ore_ad = OREApp(params_ad)\n",
    "ore_ad.run()\n",
    "utilities.checkErrorsAndRunTime(ore_ad)\n",
    "#utilities.writeList(ore_ad.getReportNames())"
   ]
  },
  {
   "cell_type": "code",
   "execution_count": null,
   "metadata": {
    "tags": []
   },
   "outputs": [],
   "source": [
    "# Compare Pricing Stats\n",
    "utilities.match_pricingstats_12(ore, ore_ad, \"Speedup\", True)"
   ]
  },
  {
   "cell_type": "code",
   "execution_count": null,
   "metadata": {},
   "outputs": [],
   "source": [
    "# Compare NPV reports, expecting identical results\n",
    "npv = ore.getReport(\"npv\")\n",
    "npv_ad = ore_ad.getReport(\"npv\")\n",
    "print(\"Bump & Reval NPV Report:\")\n",
    "display(utilities.format_report(npv))\n",
    "print(\"AD NPV Report:\")\n",
    "display(utilities.format_report(npv_ad))"
   ]
  },
  {
   "cell_type": "code",
   "execution_count": null,
   "metadata": {},
   "outputs": [],
   "source": [
    "# Compare Sensitivities\n",
    "utilities.match_sensi_reports(ore, ore_ad, \"DeltaBump\", \"DeltaAD\", False)"
   ]
  },
  {
   "cell_type": "markdown",
   "metadata": {},
   "source": [
    "### Discussion\n",
    "- Shift Scheme (EQ Spot)\n",
    "- Shift Size (Vega)\n",
    "- Lowering the BarrierLevel in EquityBarrierOption\n",
    "- Lowering the KnockOutLevel in EquityAccumulator\n",
    "- Lowering the KnockOutProfitAmount in FxTARF, introducing varying range strikes or leverages\n",
    "- Todo: Add CAM"
   ]
  },
  {
   "cell_type": "markdown",
   "metadata": {},
   "source": [
    "# Sensitivities: CPU vs GPU"
   ]
  },
  {
   "cell_type": "markdown",
   "metadata": {},
   "source": [
    "## Run with ComputationGraph Enabled\n",
    "\n",
    "Check the following is set in **pricingengine_cg.xml**.\n",
    "- **UseCG** is set to true\n",
    "- **ExternalDeviceCompatibilityMode** is set to true\n",
    "\n",
    "The latter ensures that we use the same ordering of random variables here and in the subsequent runs using external devices."
   ]
  },
  {
   "cell_type": "code",
   "execution_count": null,
   "metadata": {},
   "outputs": [],
   "source": [
    "params_cg = Parameters()\n",
    "params_cg.fromFile(\"Input/ore_cg.xml\")\n",
    "ore_cg = OREApp(params_cg)\n",
    "ore_cg.run()\n",
    "utilities.checkErrorsAndRunTime(ore_cg)\n",
    "#utilities.writeList(ore_bump.getReportNames())"
   ]
  },
  {
   "cell_type": "code",
   "execution_count": null,
   "metadata": {},
   "outputs": [],
   "source": [
    "# Compare Pricing Stats\n",
    "utilities.match_pricingstats_12(ore, ore_cg, \"Speedup\", False)"
   ]
  },
  {
   "cell_type": "markdown",
   "metadata": {},
   "source": [
    "### Compare Sensitivities\n",
    "\n",
    "If we set pricing engine's ExternalDeviceCompatibilityMode to false here, then we should see zero deviations from the reference run above\n",
    "\n",
    "If we set ExternalDeviceCompatibilityMode to true though, then we see differences below due to different ordering of random variates in both runs,\n",
    "However, this means we use the same ordering in the CG run as in the GPU run below.\n",
    "\n",
    "So if you want to check the former, the set ExternalDeviceCompatibilityMode=false first, rerun ore_cg and confirm perfect match of sensitivities."
   ]
  },
  {
   "cell_type": "code",
   "execution_count": null,
   "metadata": {},
   "outputs": [],
   "source": [
    "# Compare Sensitivities: This run vs reference \n",
    "utilities.match_sensi_reports(ore, ore_cg, \"DeltaBump\", \"DeltaCG\", False)"
   ]
  },
  {
   "cell_type": "markdown",
   "metadata": {},
   "source": [
    "## Run again using the external GPU device\n",
    "\n",
    "Note that this functionality is work in progress.\n",
    "\n",
    "Using an external device requires another few changes in **pricingengine_gpu.xml**'s EngineParameters section:\n",
    "- set **UseCG** to true\n",
    "- set **UseExternalComputeDevice** to true\n",
    "- set **ExternalComputeDevice** to the device name, you can choose **BasicCpu/Default/Default** or (on my machine) **OpenCL/Apple/Apple M2 Max**\n",
    "\n",
    "Determine your available compute devices by running the QuantExt test suite with **quantext-test-suite --log_level=message --run_test=\"*/ComputeEnvironmentTest/testEnvironmentInit\"**\n",
    "\n",
    "**BasicCpu/Default/Default** refers to the CPU itself but treats it as an external device. This is useful for sanity checking the implementation - it should yield a perfect match in the sensitivity comparison below, but only moderate change in performance since we do not paralellize.\n",
    "\n",
    "**OpenCL/Apple/Apple M2 Max** is a **38 core GPU** device that should yield a noticeable performance improvement thanks to distributing the calculations across the GPU cores."
   ]
  },
  {
   "cell_type": "code",
   "execution_count": null,
   "metadata": {},
   "outputs": [],
   "source": [
    "params_gpu = Parameters()\n",
    "params_gpu.fromFile(\"Input/ore_gpu.xml\")\n",
    "ore_gpu = OREApp(params_gpu)\n",
    "ore_gpu.run()\n",
    "utilities.checkErrorsAndRunTime(ore_gpu)\n",
    "#utilities.writeList(ore_ad.getReportNames())"
   ]
  },
  {
   "cell_type": "code",
   "execution_count": null,
   "metadata": {},
   "outputs": [],
   "source": [
    "# Compare Pricing Stats\n",
    "utilities.match_pricingstats_123(ore_cg, ore_ad, ore_gpu, \"SpeedupAD\", \"SpeedupGPU\", False)"
   ]
  },
  {
   "cell_type": "code",
   "execution_count": null,
   "metadata": {},
   "outputs": [],
   "source": [
    "# Compare Sensitivities\n",
    "# to the reference run with both UseCG and ExternalDeviceCompatibilityMode set to true\n",
    "utilities.match_sensi_reports(ore_cg, ore_gpu, \"DeltaBump\", \"DeltaGPU\", False)"
   ]
  },
  {
   "cell_type": "markdown",
   "metadata": {},
   "source": [
    "### Todos\n",
    "- check the OpenCL implementation with devices that support double precision, e.g. Nvidia\n",
    "- add random number generators to the OpenCL implementation (MT antithetic, Sobol, Sobol BB)\n",
    "- CUDA implementation"
   ]
  },
  {
   "cell_type": "code",
   "execution_count": null,
   "metadata": {},
   "outputs": [],
   "source": []
  }
 ],
 "metadata": {
  "anaconda-cloud": {},
  "extensions": {
   "jupyter_dashboards": {
    "activeView": "report_default",
    "version": 1,
    "views": {
     "grid_default": {
      "cellMargin": 10,
      "defaultCellHeight": 20,
      "maxColumns": 12,
      "name": "grid",
      "type": "grid"
     },
     "report_default": {
      "name": "report",
      "type": "report"
     }
    }
   }
  },
  "kernelspec": {
   "display_name": "Python 3 (ipykernel)",
   "language": "python",
   "name": "python3"
  },
  "language_info": {
   "codemirror_mode": {
    "name": "ipython",
    "version": 3
   },
   "file_extension": ".py",
   "mimetype": "text/x-python",
   "name": "python",
   "nbconvert_exporter": "python",
   "pygments_lexer": "ipython3",
   "version": "3.9.6"
  },
  "widgets": {
   "state": {
    "706c717787fc48baacd29c35c5b92bba": {
     "views": [
      {
       "cell_index": 13
      }
     ]
    }
   },
   "version": "1.2.0"
  }
 },
 "nbformat": 4,
 "nbformat_minor": 4
}
