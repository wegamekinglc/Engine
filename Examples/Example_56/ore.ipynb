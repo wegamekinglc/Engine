{
 "cells": [
  {
   "cell_type": "markdown",
   "metadata": {
    "extensions": {
     "jupyter_dashboards": {
      "version": 1,
      "views": {
       "grid_default": {
        "col": 0,
        "height": 4,
        "hidden": true,
        "row": 20,
        "width": 4
       },
       "report_default": {
        "hidden": false
       }
      }
     }
    },
    "tags": []
   },
   "source": [
    "\n",
    "# CVA Sensitivity using AAD"
   ]
  },
  {
   "cell_type": "markdown",
   "metadata": {
    "extensions": {
     "jupyter_dashboards": {
      "version": 1,
      "views": {
       "grid_default": {
        "col": 4,
        "height": 4,
        "hidden": true,
        "row": 26,
        "width": 4
       },
       "report_default": {
        "hidden": false
       }
      }
     }
    },
    "tags": []
   },
   "source": [
    "This notebook demonstrates a work in progress implementation of CVA AAD sensitivities\n",
    "- in the context of the scripted trade framework\n",
    "- for a single Swap, as in Example 1\n",
    "\n",
    "We highlight performance of the calculation and show differences between AAD and bump & revalue sensitivities.\n"
   ]
  },
  {
   "cell_type": "markdown",
   "metadata": {},
   "source": [
    "## Recall: Run CVA using \"classic\" AMC\n",
    "- AMC simulation generates the NPV cube, biweekly grid to 10 years, 8192 paths\n",
    "- post processor step aggregates the expected exposure and copmputes CVA"
   ]
  },
  {
   "cell_type": "code",
   "execution_count": null,
   "metadata": {},
   "outputs": [],
   "source": [
    "from ORE import *\n",
    "import sys, time, math\n",
    "sys.path.append('..')\n",
    "import utilities"
   ]
  },
  {
   "cell_type": "code",
   "execution_count": null,
   "metadata": {},
   "outputs": [],
   "source": [
    "params_xva = Parameters()\n",
    "params_xva.fromFile(\"Input/ore_xva.xml\")\n",
    "ore_xva = OREApp(params_xva)\n",
    "ore_xva.run()\n",
    "utilities.checkErrorsAndRunTime(ore_xva)\n",
    "utilities.writeList(ore_xva.getReportNames())"
   ]
  },
  {
   "cell_type": "code",
   "execution_count": null,
   "metadata": {},
   "outputs": [],
   "source": [
    "# plot the exposure report\n",
    "exposure_report = ore_xva.getReport(\"exposure_nettingset_CPTY_A\")\n",
    "time = exposure_report.dataAsReal(2)\n",
    "epe = exposure_report.dataAsReal(3)\n",
    "ene = exposure_report.dataAsReal(4)\n",
    "\n",
    "import matplotlib.pyplot as plt\n",
    "fig = plt.figure(figsize=(10, 5))\n",
    "plt.plot(time, epe, label='EPE')\n",
    "plt.plot(time, ene, label='ENE')\n",
    "plt.xlabel('Time/Years')\n",
    "plt.ylabel('Exposure')\n",
    "plt.title('')\n",
    "plt.show()"
   ]
  },
  {
   "cell_type": "code",
   "execution_count": null,
   "metadata": {},
   "outputs": [],
   "source": [
    "# show the xva report\n",
    "xva_report = ore_xva.getReport(\"xva\")\n",
    "display(utilities.format_report(xva_report))"
   ]
  },
  {
   "cell_type": "markdown",
   "metadata": {
    "extensions": {
     "jupyter_dashboards": {
      "version": 1,
      "views": {
       "grid_default": {
        "col": 0,
        "height": 2,
        "hidden": false,
        "row": 0,
        "width": 12
       },
       "report_default": {
        "hidden": false
       }
      }
     }
    }
   },
   "source": [
    "## Run CVA on the Computation Graph\n",
    "We use a proof of concept implementation (see orea/engine/xvaenginecg.xpp) called from the XVA analytic (see orea/app/analytics/xvaanalytic.cpp) if parameter **amcCg=true** in ore.xml.\n",
    "\n",
    "This engine performes AMC valuation, exposure aggregation and XVA calculation in one shot on ORE's ComputationGraph. \n",
    "\n",
    "We can force calculation of sensitivities by bump & revalue if parameter **xvaCgBumpSensis=true**, see ore_bump.xml. This is what we do below, to generate \"reference\" sensitivities.\n"
   ]
  },
  {
   "cell_type": "code",
   "execution_count": null,
   "metadata": {},
   "outputs": [],
   "source": [
    "params = Parameters()\n",
    "params.fromFile(\"Input/ore_bump.xml\")\n",
    "ore = OREApp(params)\n",
    "ore.run()\n",
    "utilities.checkErrorsAndRunTime(ore)\n",
    "utilities.writeList(ore.getReportNames())"
   ]
  },
  {
   "cell_type": "code",
   "execution_count": null,
   "metadata": {},
   "outputs": [],
   "source": [
    "exposure = ore.getReport(\"xvacg-exposure\")\n",
    "display(utilities.format_report(exposure))"
   ]
  },
  {
   "cell_type": "code",
   "execution_count": null,
   "metadata": {},
   "outputs": [],
   "source": [
    "sensi_scenario_bump = ore.getReport(\"xvacg-cva-sensi-scenario\")\n",
    "display(utilities.format_report(sensi_scenario_bump))"
   ]
  },
  {
   "cell_type": "markdown",
   "metadata": {
    "extensions": {
     "jupyter_dashboards": {
      "version": 1,
      "views": {
       "grid_default": {
        "col": 0,
        "height": 2,
        "hidden": false,
        "row": 7,
        "width": 12
       },
       "report_default": {
        "hidden": false
       }
      }
     }
    }
   },
   "source": [
    "## Run CVA Sensitivity using AAD"
   ]
  },
  {
   "cell_type": "code",
   "execution_count": null,
   "metadata": {
    "extensions": {
     "jupyter_dashboards": {
      "version": 1,
      "views": {
       "grid_default": {
        "col": 0,
        "height": 7,
        "hidden": false,
        "row": 9,
        "width": 12
       },
       "report_default": {
        "hidden": true
       }
      }
     }
    }
   },
   "outputs": [],
   "source": [
    "params_ad = Parameters()\n",
    "params_ad.fromFile(\"Input/ore.xml\")\n",
    "ore_ad = OREApp(params_ad)\n",
    "ore_ad.run()\n",
    "utilities.checkErrorsAndRunTime(ore_ad)"
   ]
  },
  {
   "cell_type": "code",
   "execution_count": null,
   "metadata": {},
   "outputs": [],
   "source": [
    "# Compare Sensitivity Scenarios\n",
    "utilities.match_scenario_reports(ore, ore_ad, False)"
   ]
  },
  {
   "cell_type": "markdown",
   "metadata": {},
   "source": [
    "## Summary\n",
    "\n",
    "Swap example performance (Macbook Pro, Apple M2 Max 2023) \n",
    "- ~9 seconds run time for CVA with \"classic\" AMC simulation and postprocessing for exposure and CVA\n",
    "- ~44 seconds run time for CVA Sensitivities, ComputationGraph, Bump & Reval\n",
    "- ~5 seconds run time for CVA Sensitivities with AAD"
   ]
  },
  {
   "cell_type": "code",
   "execution_count": null,
   "metadata": {},
   "outputs": [],
   "source": []
  }
 ],
 "metadata": {
  "anaconda-cloud": {},
  "extensions": {
   "jupyter_dashboards": {
    "activeView": "report_default",
    "version": 1,
    "views": {
     "grid_default": {
      "cellMargin": 10,
      "defaultCellHeight": 20,
      "maxColumns": 12,
      "name": "grid",
      "type": "grid"
     },
     "report_default": {
      "name": "report",
      "type": "report"
     }
    }
   }
  },
  "kernelspec": {
   "display_name": "Python 3 (ipykernel)",
   "language": "python",
   "name": "python3"
  },
  "language_info": {
   "codemirror_mode": {
    "name": "ipython",
    "version": 3
   },
   "file_extension": ".py",
   "mimetype": "text/x-python",
   "name": "python",
   "nbconvert_exporter": "python",
   "pygments_lexer": "ipython3",
   "version": "3.9.6"
  },
  "widgets": {
   "state": {
    "706c717787fc48baacd29c35c5b92bba": {
     "views": [
      {
       "cell_index": 13
      }
     ]
    }
   },
   "version": "1.2.0"
  }
 },
 "nbformat": 4,
 "nbformat_minor": 4
}
